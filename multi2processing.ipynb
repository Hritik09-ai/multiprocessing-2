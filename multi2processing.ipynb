{
 "cells": [
  {
   "cell_type": "code",
   "execution_count": null,
   "id": "860b7631-d6cd-4341-a005-067b3d1baead",
   "metadata": {},
   "outputs": [],
   "source": [
    "# QUESTION.1 What is multiprocssing in python? Why is it useful?\n",
    "# ANSWER Multiprocession in python is a technique that allows you to create and manage multiple processes concurrently \n",
    "# within a Python program. Each process runs independently and has its own memory space, which enables parallel \n",
    "# execution of tasks. It is usedful for several :\n",
    "# 1.Parallelism: Multiprocessing allows you to leverage the full potential of multi-core processors by running tasks in\n",
    "# parallel\n",
    "# 2.Concurrency: It enables concurrent execution of tasks, which is especially of tasks, which is especially useful for\n",
    "# I/O-bound operations,like reading/writing files or making network requests, as it prevents one task from blocking other\n",
    "# 3.Isolation: Each process has its own memory space, which means that they don't interfere with each other.\n",
    "# 4. Resource Utilization: Multiprocessing helps better utilize system resources. It can maximize CPU usage and improve \n",
    "# overall efficiency of your program.\n",
    "# 5. Task Division: You can divide a large task into smaller sub-tasks and process them in parallel, which can lead to\n",
    "# faster execution times."
   ]
  },
  {
   "cell_type": "code",
   "execution_count": null,
   "id": "011e48ee-574c-4200-b724-764d9cdf6bbf",
   "metadata": {},
   "outputs": [],
   "source": []
  },
  {
   "cell_type": "code",
   "execution_count": 1,
   "id": "0b35d4f7-2c82-4e66-be74-177efcadf5a1",
   "metadata": {},
   "outputs": [],
   "source": [
    "# QUESTION.2 What are the difference between multithreading and multiprocessing? \n",
    "# ANSWER Multiprocessing \n",
    "# 1. In Multiprocessing, CPUs are added for increasing comuting power.\n",
    "# 2. In Multiprocessing, Many processes are executed simultaneosly.\n",
    "# 3. In Multiprocessing, Process creation is a time-consuming process.\n",
    "     #  Multithreading\n",
    "# 1. In multithreading, many thread are created of a single process for computing power.\n",
    "# 2. In multithreading, many threads of a process are executed simultaneously.\n",
    "# 3. In multithreading, process creation is according to economical."
   ]
  },
  {
   "cell_type": "code",
   "execution_count": null,
   "id": "7a08ba1f-1ca2-48b6-9608-5a9d0ded4f57",
   "metadata": {},
   "outputs": [],
   "source": []
  },
  {
   "cell_type": "code",
   "execution_count": 4,
   "id": "5565b4a0-53bc-4b33-812a-3d2df3203eaf",
   "metadata": {},
   "outputs": [
    {
     "name": "stdout",
     "output_type": "stream",
     "text": [
      "this is my main program\n",
      "this is my multiprocessing program\n"
     ]
    }
   ],
   "source": [
    "# QUESTION.3 Write a python code to create a process using the multiprocessing module.\n",
    "# ANSWER \n",
    "import multiprocessing\n",
    "def test():\n",
    "    print('this is my multiprocessing program')\n",
    "\n",
    "if __name__== '__main__':\n",
    "    m = multiprocessing.Process(target=test)\n",
    "    print('this is my main program')\n",
    "    m.start()\n",
    "    m.join()\n",
    "    \n",
    "        \n",
    "        "
   ]
  },
  {
   "cell_type": "code",
   "execution_count": 2,
   "id": "a20774fb-1c62-48ca-a695-78959703c0f7",
   "metadata": {},
   "outputs": [
    {
     "name": "stdout",
     "output_type": "stream",
     "text": [
      "this is my multiprocessing program\n"
     ]
    }
   ],
   "source": [
    "test()"
   ]
  },
  {
   "cell_type": "code",
   "execution_count": 5,
   "id": "3ef99f10-54d0-4b1d-b143-34d77fcc40c2",
   "metadata": {},
   "outputs": [],
   "source": [
    "# QUESTION.4 What is multiprocessing pool in python? Why is it used?\n",
    "# ANSWER A multiprocessing pool in python is a part of the 'multiprocessing' module that provides a conventient way to \n",
    "# parallelize the execution of function or tasks across multiple CPU cores or processes. It's primarily used for concurrent\n",
    "# execution of a function with different input value or for parallelizing tasks that can be split into independent subtasks."
   ]
  },
  {
   "cell_type": "code",
   "execution_count": null,
   "id": "342a37b7-9e87-40fb-a57d-e577d2a4a664",
   "metadata": {},
   "outputs": [],
   "source": []
  },
  {
   "cell_type": "code",
   "execution_count": 6,
   "id": "53a3d17e-9597-4939-95f6-42c2a181aceb",
   "metadata": {},
   "outputs": [],
   "source": [
    "# QUESTION.5 How can we create a pool of worker processes in python using the multiprocesing module?\n",
    "# ANSWER \n",
    "import multiprocessing\n",
    "\n",
    "def worker_function(task):\n",
    "    result = task * 2 \n",
    "    return result \n",
    "if __name__ == \"__main__\":\n",
    "    pool = multiprocessing.Pool(processes=4)\n",
    "    tasks = [1,2,3,4,5]\n",
    "    \n",
    "    results = pool.map(worker_function, tasks)\n",
    "    \n",
    "    pool.close()\n",
    "    pool.join()"
   ]
  },
  {
   "cell_type": "code",
   "execution_count": 7,
   "id": "7a079823-2809-4f92-a81e-4134b093a3fe",
   "metadata": {},
   "outputs": [
    {
     "name": "stdout",
     "output_type": "stream",
     "text": [
      "[2, 4, 6, 8, 10]\n"
     ]
    }
   ],
   "source": [
    "print(results)"
   ]
  },
  {
   "cell_type": "code",
   "execution_count": 9,
   "id": "8c4f4388-d188-45aa-832c-579e4c3eba3a",
   "metadata": {},
   "outputs": [
    {
     "name": "stdout",
     "output_type": "stream",
     "text": [
      "process1: 1\n",
      "process2: 2\n",
      "process3: 3\n",
      "process4: 4\n"
     ]
    }
   ],
   "source": [
    "# QUESTION.6 Write a python program to create 4 processes, each process should print a different number using the \n",
    "# multiprocessing module in python. \n",
    "# ANSWER \n",
    "import multiprocessing\n",
    "\n",
    "def print_number(number):\n",
    "    print(f'process{number}: {number}')\n",
    "if __name__ == '__main__':\n",
    "    processes = []\n",
    "    \n",
    "    for i in range(1,5):\n",
    "        process = multiprocessing.Process(target=print_number, args=(i,))\n",
    "        processes.append(process)\n",
    "        process.start()\n",
    "       \n",
    "    for process in processes :\n",
    "        process.join()\n"
   ]
  },
  {
   "cell_type": "code",
   "execution_count": null,
   "id": "c595e520-f182-467f-a7c7-7bab44f2bbcf",
   "metadata": {},
   "outputs": [],
   "source": []
  }
 ],
 "metadata": {
  "kernelspec": {
   "display_name": "Python 3 (ipykernel)",
   "language": "python",
   "name": "python3"
  },
  "language_info": {
   "codemirror_mode": {
    "name": "ipython",
    "version": 3
   },
   "file_extension": ".py",
   "mimetype": "text/x-python",
   "name": "python",
   "nbconvert_exporter": "python",
   "pygments_lexer": "ipython3",
   "version": "3.10.8"
  }
 },
 "nbformat": 4,
 "nbformat_minor": 5
}
